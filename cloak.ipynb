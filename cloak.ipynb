{
 "cells": [
  {
   "cell_type": "code",
   "execution_count": 1,
   "metadata": {},
   "outputs": [],
   "source": [
    "import cv2\n",
    "import numpy as np"
   ]
  },
  {
   "cell_type": "code",
   "execution_count": 5,
   "metadata": {
    "scrolled": true
   },
   "outputs": [],
   "source": [
    "cap=cv2.VideoCapture(0)\n",
    "back=cv2.imread('./image2.jpg')\n",
    "\n",
    "while cap.isOpened():\n",
    "    #take each frame\n",
    "    ret,frame=cap.read()\n",
    "    \n",
    "    if ret:\n",
    "        #how do we convert RGB to HSV\n",
    "        hsv=cv2.cvtColor(frame,cv2.COLOR_BGR2HSV)\n",
    "        #cv2.imshow(\"hsv\",hsv)\n",
    "        red=np.uint8([[[0,0,255]]])#bgr value of red\n",
    "        hsv_red=cv2.cvtColor(red,cv2.COLOR_BGR2HSV)\n",
    "        #get hsv value of red from bgr\n",
    "        #print(hsv_red) #prints the HSV value of red color \n",
    "        l_red=np.array([0,100,100])\n",
    "        u_red=np.array([10,255,255])\n",
    "        \n",
    "        mask1=cv2.inRange(hsv,l_red,u_red)\n",
    "        #cv2.imshow(\"mask\",mask)\n",
    "        #all things red\n",
    "        mask1 = cv2.morphologyEx(mask1, cv2.MORPH_OPEN, np.ones((3, 3), \n",
    "                                         np.uint8), iterations = 2) \n",
    "        mask1 = cv2.dilate(mask1, np.ones((3, 3), np.uint8), iterations = 2) \n",
    "        part1=cv2.bitwise_and(back, back, mask=mask1)\n",
    "        #cv2.imshow(\"part1\",part1)\n",
    "        \n",
    "        mask1=cv2.bitwise_not(mask1)\n",
    "        #all things not red \n",
    "        part2=cv2.bitwise_and(frame,frame,mask=mask1)\n",
    "        #cv2.imshow(\"mask\",part2)\n",
    "        \n",
    "        cv2.imshow(\"cloak\",part1+part2)\n",
    "        \n",
    "        if cv2.waitKey(5)==ord('q'):#press 'q' for exiting\n",
    "            break\n",
    "            \n",
    "cap.release()\n",
    "cv2.destroyAllWindows()\n",
    "            "
   ]
  }
 ],
 "metadata": {
  "kernelspec": {
   "display_name": "Python 3",
   "language": "python",
   "name": "python3"
  },
  "language_info": {
   "codemirror_mode": {
    "name": "ipython",
    "version": 3
   },
   "file_extension": ".py",
   "mimetype": "text/x-python",
   "name": "python",
   "nbconvert_exporter": "python",
   "pygments_lexer": "ipython3",
   "version": "3.8.3"
  }
 },
 "nbformat": 4,
 "nbformat_minor": 4
}
